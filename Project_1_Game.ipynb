{
  "nbformat": 4,
  "nbformat_minor": 0,
  "metadata": {
    "colab": {
      "provenance": [],
      "authorship_tag": "ABX9TyONb0gOTNfm1fkIKUeLpZOM",
      "include_colab_link": true
    },
    "kernelspec": {
      "name": "python3",
      "display_name": "Python 3"
    },
    "language_info": {
      "name": "python"
    }
  },
  "cells": [
    {
      "cell_type": "markdown",
      "metadata": {
        "id": "view-in-github",
        "colab_type": "text"
      },
      "source": [
        "<a href=\"https://colab.research.google.com/github/mamathabhukya/Python-Practice/blob/main/Project_1_Game.ipynb\" target=\"_parent\"><img src=\"https://colab.research.google.com/assets/colab-badge.svg\" alt=\"Open In Colab\"/></a>"
      ]
    },
    {
      "cell_type": "markdown",
      "source": [
        "Snake , water and gun game"
      ],
      "metadata": {
        "id": "ktGWbI360_na"
      }
    },
    {
      "cell_type": "code",
      "source": [
        "import random\n",
        "def swg(comp,mine):\n",
        "    if(comp==mine):\n",
        "        return None\n",
        "    if(comp==\"snake\" and mine==\"gun\"):\n",
        "        return True\n",
        "    elif(comp==\"gun\" and mine=='water'):\n",
        "        return True\n",
        "    elif(comp=='water' and mine=='snake'):\n",
        "        return True\n",
        "    else:\n",
        "        return False\n",
        "choice=('snake','water','gun')\n",
        "comp=random.randint(0,2)\n",
        "comp=choice[comp]\n",
        "mine=input(\"Enter your choice either s , g and w : \")\n",
        "\n",
        "win=swg(comp,mine)\n",
        "print(f\" You choose {mine} and the computer choose {comp}\")\n",
        "if win is None:\n",
        "    print(\"Match draw\")\n",
        "if win:\n",
        "    print(\"You won\")\n",
        "else:\n",
        "    print(\"You lose\")"
      ],
      "metadata": {
        "colab": {
          "base_uri": "https://localhost:8080/"
        },
        "id": "QBr7o5Ub1H3K",
        "outputId": "1a8719b0-da15-4c89-c849-bf3fffc216cf"
      },
      "execution_count": null,
      "outputs": [
        {
          "output_type": "stream",
          "name": "stdout",
          "text": [
            "Enter your choice either s , g and w : water\n",
            " You choose water and the computer choose snake\n",
            "You lose\n"
          ]
        }
      ]
    }
  ]
}