{
  "nbformat": 4,
  "nbformat_minor": 0,
  "metadata": {
    "colab": {
      "provenance": [],
      "authorship_tag": "ABX9TyPEvAeAx8emKxD/FnJMKFCo",
      "include_colab_link": true
    },
    "kernelspec": {
      "name": "python3",
      "display_name": "Python 3"
    },
    "language_info": {
      "name": "python"
    }
  },
  "cells": [
    {
      "cell_type": "markdown",
      "metadata": {
        "id": "view-in-github",
        "colab_type": "text"
      },
      "source": [
        "<a href=\"https://colab.research.google.com/github/mamathabhukya/Python-Practice/blob/main/project2_Guess_number_python.ipynb\" target=\"_parent\"><img src=\"https://colab.research.google.com/assets/colab-badge.svg\" alt=\"Open In Colab\"/></a>"
      ]
    },
    {
      "cell_type": "markdown",
      "source": [
        "Project 2 - Guess the number"
      ],
      "metadata": {
        "id": "qcj06-HTYGGY"
      }
    },
    {
      "cell_type": "code",
      "execution_count": null,
      "metadata": {
        "colab": {
          "base_uri": "https://localhost:8080/"
        },
        "id": "NyWxS0juYEyn",
        "outputId": "4c7e1f24-ada6-4b36-e3e6-3eaf8977abd7"
      },
      "outputs": [
        {
          "output_type": "stream",
          "name": "stdout",
          "text": [
            "Guess the number: 12\n",
            "Guess the another number,This is too big: 7\n",
            "Guess the another number, This is too small: 10\n",
            "Yeah that's  the number! you guessed in 3 attempts \n",
            "Guess the number: 45\n",
            "Guess the another number, This is too small: 67\n",
            "Guess the another number, This is too small: 78\n",
            "Guess the another number,This is too big: 71\n",
            "Guess the another number, This is too small: 75\n",
            "Guess the another number,This is too big: 73\n",
            "Guess the another number,This is too big: 72\n",
            "Yeah that's  the number! you guessed in 7 attempts \n"
          ]
        }
      ],
      "source": [
        "import random\n",
        "number=random.randint(1,100)\n",
        "attempt=1\n",
        "guess=int(input('Guess the number: '))\n",
        "\n",
        "while(True):\n",
        "     if(guess>number):\n",
        "        guess=int(input(\"Guess the another number,This is too big: \"))\n",
        "        attempt +=1\n",
        "     elif(guess<number):\n",
        "        guess=int(input(\"Guess the another number, This is too small: \"))\n",
        "        attempt +=1\n",
        "     else:\n",
        "          print(f\"Yeah that's  the number! you guessed in {attempt} attempts \")\n",
        "          break\n",
        ""
      ]
    }
  ]
}